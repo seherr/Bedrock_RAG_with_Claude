{
 "cells": [
  {
   "cell_type": "code",
   "execution_count": 1,
   "id": "49506bf3",
   "metadata": {},
   "outputs": [],
   "source": [
    "import json\n",
    "import os\n",
    "import sys\n",
    "import numpy as np\n",
    "from urllib.request import urlretrieve\n",
    "import ssl\n",
    "from langchain.text_splitter import CharacterTextSplitter, RecursiveCharacterTextSplitter\n",
    "from langchain.document_loaders import PyPDFLoader, PyPDFDirectoryLoader\n",
    "from langchain.embeddings import BedrockEmbeddings\n",
    "from langchain.llms.bedrock import Bedrock\n",
    "\n",
    "import boto3\n",
    "\n",
    "bedrock_runtime = boto3.client(\n",
    "    service_name='bedrock-runtime', \n",
    "    aws_access_key_id=os.getenv('aws_access_key_id'),\n",
    "    aws_secret_access_key=os.getenv('aws_secret_access_key'),\n",
    "    region_name='us-west-2'\n",
    ")"
   ]
  },
  {
   "cell_type": "code",
   "execution_count": 2,
   "id": "48056ff2",
   "metadata": {},
   "outputs": [],
   "source": [
    "llm = Bedrock(model_id=\"anthropic.claude-v2\", client=bedrock_runtime, model_kwargs={'max_tokens_to_sample':200})\n",
    "bedrock_embeddings = BedrockEmbeddings(model_id=\"amazon.titan-embed-text-v1\", client=bedrock_runtime)"
   ]
  },
  {
   "cell_type": "code",
   "execution_count": 3,
   "id": "da02dc67",
   "metadata": {},
   "outputs": [],
   "source": [
    "ssl._create_default_https_context = ssl._create_unverified_context\n",
    "\n",
    "os.makedirs(\"data\", exist_ok=True)\n",
    "files = [\n",
    "    \"https://www.cdc.gov/vaccines/imz-managers/downloads/COVID-19-Vaccination-Program-Interim_Playbook.pdf\",\n",
    "    \"https://iris.who.int/bitstream/handle/10665/89966/9789241506021_eng.pdf\",\n",
    "]\n",
    "for url in files:\n",
    "    file_path = os.path.join(\"data\", url.rpartition(\"/\")[2])\n",
    "    urlretrieve(url, file_path)"
   ]
  },
  {
   "cell_type": "code",
   "execution_count": 4,
   "id": "e05037e4",
   "metadata": {},
   "outputs": [],
   "source": [
    "loader = PyPDFDirectoryLoader(\"./data/\")\n",
    "\n",
    "documents = loader.load()\n",
    "text_splitter = RecursiveCharacterTextSplitter(\n",
    "    chunk_size = 1000,\n",
    "    chunk_overlap  = 100,\n",
    ")\n",
    "text_to_process = text_splitter.split_documents(documents)"
   ]
  },
  {
   "cell_type": "code",
   "execution_count": 5,
   "id": "cd6f37a8",
   "metadata": {},
   "outputs": [
    {
     "name": "stdout",
     "output_type": "stream",
     "text": [
      "Initial average length across 166 loaded documents is 3108 characters.\n",
      "Post-split, there are 639 documents, an increase from the original 166 documents.\n",
      "Final average length across 639 documents is 836 characters.\n"
     ]
    }
   ],
   "source": [
    "def compute_avg_length(text_to_process):\n",
    "    total_length = sum(len(text.page_content) for text in text_to_process)\n",
    "    return total_length // len(text_to_process)\n",
    "\n",
    "initial_avg_length = compute_avg_length(documents)\n",
    "final_avg_length = compute_avg_length(text_to_process)\n",
    "\n",
    "print(f'Initial average length across {len(documents)} loaded documents is {initial_avg_length} characters.')\n",
    "print(f'Post-split, there are {len(text_to_process)} documents, an increase from the original {len(documents)} documents.')\n",
    "print(f'Final average length across {len(text_to_process)} documents is {final_avg_length} characters.')"
   ]
  },
  {
   "cell_type": "code",
   "execution_count": 6,
   "id": "b7c2e74e",
   "metadata": {},
   "outputs": [
    {
     "name": "stdout",
     "output_type": "stream",
     "text": [
      "Example embedding for a document segment:  [ 1.203125    0.25195312 -0.19238281 ...  0.296875   -0.234375\n",
      " -0.53515625]\n",
      "Dimensions of the embedding:  (1536,)\n"
     ]
    }
   ],
   "source": [
    "example_embedding = np.array(bedrock_embeddings.embed_query(text_to_process[0].page_content))\n",
    "print(\"Example embedding for a document segment: \", example_embedding)\n",
    "print(\"Dimensions of the embedding: \", example_embedding.shape)"
   ]
  },
  {
   "cell_type": "code",
   "execution_count": 7,
   "id": "3633a62f",
   "metadata": {},
   "outputs": [],
   "source": [
    "from langchain.chains.question_answering import load_qa_chain\n",
    "from langchain.vectorstores import FAISS\n",
    "from langchain.indexes import VectorstoreIndexCreator\n",
    "from langchain.indexes.vectorstore import VectorStoreIndexWrapper\n",
    "\n",
    "vectorstore_faiss = FAISS.from_documents(text_to_process,bedrock_embeddings)\n",
    "wrapper_store_faiss = VectorStoreIndexWrapper(vectorstore=vectorstore_faiss)"
   ]
  },
  {
   "cell_type": "code",
   "execution_count": 8,
   "id": "efbf310d",
   "metadata": {},
   "outputs": [],
   "source": [
    "query = \"\"\"What measures are recommended for monitoring and evaluating the effectiveness of the vaccination program?\"\"\""
   ]
  },
  {
   "cell_type": "code",
   "execution_count": 9,
   "id": "1be125de",
   "metadata": {},
   "outputs": [
    {
     "data": {
      "text/plain": [
       "array([-1.0839844e-01, -1.7675781e-01,  6.7968750e-01, ...,\n",
       "        8.9645386e-04,  9.0234375e-01, -2.1972656e-01])"
      ]
     },
     "execution_count": 9,
     "metadata": {},
     "output_type": "execute_result"
    }
   ],
   "source": [
    "query_embedding = vectorstore_faiss.embedding_function(query)\n",
    "np.array(query_embedding)"
   ]
  },
  {
   "cell_type": "code",
   "execution_count": 10,
   "id": "9e29e969",
   "metadata": {},
   "outputs": [
    {
     "name": "stdout",
     "output_type": "stream",
     "text": [
      "4 documents retrieved relevant to the query.\n",
      "----------------------------------------\n",
      "## Document 1: Immediate Priorities for Immunization Programs Related to Data Reporting:\n",
      "• Determine and implement a solution for documenting vaccine administration in temporary or high\n",
      "-volume settings (e.g.,\n",
      "VAMS or similar application, IIS or module\n",
      "that interfaces with the IIS, or other jurisdiction -based solution)\n",
      "• Ensure system capacity for data exchange,\n",
      "security, storage, and reporting\n",
      "• Enroll vaccination provider facilities/organizations anticipated to vaccinate essential workers\n",
      "• Connect IIS to the IZ Gateway\n",
      "• Establish required data use agreements\n",
      "• Assess and improve data quality\n",
      "o Ensure data  are available, secure,\n",
      "complete, timely, valid, accurate,\n",
      "consistent, and unique.......\n",
      "----------------------------------------\n",
      "## Document 2: o Focus on ensuring equitable vaccination  access across the entire pop ulation.\n",
      "Monitor vaccine\n",
      "uptake and coverage ; reassess strategy to increase uptake in populations or communities with\n",
      "low coverage.\n",
      "The following graph illustrates the three phases of the COVID -19 V accine Program  and populations\n",
      "of focus in\n",
      "each phase........\n",
      "----------------------------------------\n",
      "## Document 3: scope and complex ity than seasonal influenza or other previous outbreak -related\n",
      "vaccination responses.\n",
      "Following the planning and improvement guidance below can assist in developing a jurisdiction’s\n",
      "baseline\n",
      "readiness to launch the COVID -19 Vaccination Program.\n",
      "Improvement Planning\n",
      "Improvement planning is the identification of strengths, areas for improvement, and corrective\n",
      "actions that\n",
      "results from workshops, exercises , or real- world events . Jurisdictions should use a consistent\n",
      "approach for\n",
      "improvement -related activities across each of their COVID -19 vaccination  preparedness planning\n",
      "components.\n",
      "Gaps in program planning are often identified when plans are tested, whether through a real event,\n",
      "such as a hepatitis A outbreak, or a full -scale vaccination exercise. Jurisdictions should test\n",
      "their COVID -19 vaccination\n",
      "program plans , and after testing,  assign  roles and responsibilities with target completion dates\n",
      "for specific tasks.......\n",
      "----------------------------------------\n",
      "## Document 4: to ensur e that corrective actions are fully implemented. Periodic review and\n",
      "revision of plans are integral to the\n",
      "improvement process.  Jurisdictions  should support continuous quality improvement  as they move\n",
      "through\n",
      "different phases of workshops, exercises, and actual COVID -19 vaccination program  implementation,\n",
      "making\n",
      "and operationalizing improvements in an ongoing manner.\n",
      "COVID -19 Vaccination Program Planning\n",
      "Prior to plan development, it is important for jurisdictions to have full situational awareness.\n",
      "There are many unknowns and unanswered questions at this time. For example, it is not yet known\n",
      "which vaccines will be available, in what volumes, at what time, with what efficacy, and with what\n",
      "storage and handling requirements. However, jurisdictions should review all current planning\n",
      "assumptions  to assist with early planning efforts . (See\n",
      "Appendix A: COVID -19 Vaccination Planning Assumptions for Jurisdictions.).......\n",
      "----------------------------------------\n"
     ]
    }
   ],
   "source": [
    "matched_documents = vectorstore_faiss.similarity_search_by_vector(query_embedding)\n",
    "print(f'{len(matched_documents)} documents retrieved relevant to the query.')\n",
    "print('----------------------------------------')\n",
    "for idx, match_doc in enumerate(matched_documents):\n",
    "    print(f'## Document {idx+1}: {match_doc.page_content}.......')\n",
    "    print('----------------------------------------')"
   ]
  },
  {
   "cell_type": "code",
   "execution_count": null,
   "id": "4b07b55b",
   "metadata": {},
   "outputs": [],
   "source": []
  }
 ],
 "metadata": {
  "kernelspec": {
   "display_name": "Python 3 (ipykernel)",
   "language": "python",
   "name": "python3"
  },
  "language_info": {
   "codemirror_mode": {
    "name": "ipython",
    "version": 3
   },
   "file_extension": ".py",
   "mimetype": "text/x-python",
   "name": "python",
   "nbconvert_exporter": "python",
   "pygments_lexer": "ipython3",
   "version": "3.9.7"
  }
 },
 "nbformat": 4,
 "nbformat_minor": 5
}
